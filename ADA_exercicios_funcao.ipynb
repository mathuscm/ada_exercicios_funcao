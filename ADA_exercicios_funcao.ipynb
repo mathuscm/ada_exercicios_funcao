{
  "nbformat": 4,
  "nbformat_minor": 0,
  "metadata": {
    "colab": {
      "provenance": [],
      "authorship_tag": "ABX9TyPuZxQlGRyz41Il+1zupSgw",
      "include_colab_link": true
    },
    "kernelspec": {
      "name": "python3",
      "display_name": "Python 3"
    },
    "language_info": {
      "name": "python"
    }
  },
  "cells": [
    {
      "cell_type": "markdown",
      "metadata": {
        "id": "view-in-github",
        "colab_type": "text"
      },
      "source": [
        "<a href=\"https://colab.research.google.com/github/mathuscm/ada_exercicios_funcao/blob/main/ADA_exercicios_funcao.ipynb\" target=\"_parent\"><img src=\"https://colab.research.google.com/assets/colab-badge.svg\" alt=\"Open In Colab\"/></a>"
      ]
    },
    {
      "cell_type": "markdown",
      "source": [
        "# Lista de Exercícios\n",
        "1.\tSoma de Dois Números:\n",
        "Faça uma função que recebe dois números e retorna a soma deles.\n",
        "\n",
        "\n"
      ],
      "metadata": {
        "id": "yM-5m_dpuk7h"
      }
    },
    {
      "cell_type": "code",
      "source": [
        "# parametrizar a quantidade de argumentos que serão somados\n",
        "def soma(a, b):\n",
        "  resultado = a + b\n",
        "  return resultado\n",
        "\n",
        "# input opcional para inserir os números em formato float\n",
        "a = float(input('Primeiro número da soma: '))\n",
        "b = float(input('Segundo número da soma: '))\n",
        "\n",
        "conta = soma(a, b)\n",
        "conta\n",
        "\n",
        "#MTH"
      ],
      "metadata": {
        "id": "icNuQmYOs_5D",
        "outputId": "b6d4f29a-3e15-4273-b99f-a469eb54f50a",
        "colab": {
          "base_uri": "https://localhost:8080/"
        }
      },
      "execution_count": 1,
      "outputs": [
        {
          "name": "stdout",
          "output_type": "stream",
          "text": [
            "Primeiro número da soma: 5\n",
            "Segundo número da soma: 6\n"
          ]
        },
        {
          "output_type": "execute_result",
          "data": {
            "text/plain": [
              "11.0"
            ]
          },
          "metadata": {},
          "execution_count": 1
        }
      ]
    },
    {
      "cell_type": "markdown",
      "source": [
        "2.\tQuadrado de um Número:  \n",
        "Faça uma função que recebe um número e retorna o seu quadrado.\n"
      ],
      "metadata": {
        "id": "feU7BZ9jvGrd"
      }
    },
    {
      "cell_type": "code",
      "source": [
        "# parametrizar a função\n",
        "def quadrado():\n",
        "  quadrado = numero * numero #(ou **2)\n",
        "  return quadrado\n",
        "\n",
        "# input opcional referenciando ao número dentro da função\n",
        "numero = int(input('Digite apenas números inteiros: '))\n",
        "conta = quadrado()\n",
        "conta\n",
        "\n",
        "#MTH"
      ],
      "metadata": {
        "id": "dLHa0cIEtOts",
        "outputId": "88965033-df8f-4543-84ad-060588dc3887",
        "colab": {
          "base_uri": "https://localhost:8080/"
        }
      },
      "execution_count": 2,
      "outputs": [
        {
          "name": "stdout",
          "output_type": "stream",
          "text": [
            "Digite apenas números inteiros: 7\n"
          ]
        },
        {
          "output_type": "execute_result",
          "data": {
            "text/plain": [
              "49"
            ]
          },
          "metadata": {},
          "execution_count": 2
        }
      ]
    },
    {
      "cell_type": "markdown",
      "source": [
        "3.\tContar Caracteres  \n",
        "Faça uma função que recebe uma string e retorna a quantidade de caracteres na string.\n"
      ],
      "metadata": {
        "id": "Jef1YXtos7sb"
      }
    },
    {
      "cell_type": "code",
      "source": [
        "# parametrizar a leitura da frase que será inputada\n",
        "def contar_caracter(frase):\n",
        "  return len(frase)\n",
        "\n",
        "# input opcional para ler frases aleatóriamente\n",
        "frase = input('Digite uma frase: ')\n",
        "contar_caracter(frase)"
      ],
      "metadata": {
        "id": "cSkjpESqtWiT",
        "outputId": "ec272cdf-2b04-470e-d4b6-414677f40c03",
        "colab": {
          "base_uri": "https://localhost:8080/"
        }
      },
      "execution_count": 3,
      "outputs": [
        {
          "name": "stdout",
          "output_type": "stream",
          "text": [
            "Digite uma frase: Meu nome é matheus\n"
          ]
        },
        {
          "output_type": "execute_result",
          "data": {
            "text/plain": [
              "18"
            ]
          },
          "metadata": {},
          "execution_count": 3
        }
      ]
    },
    {
      "cell_type": "markdown",
      "source": [
        "4.\tNúmero de Vogais  \n",
        "Faça uma função que recebe uma string e retorna o número de vogais presentes na string.\n"
      ],
      "metadata": {
        "id": "x4gvuNaJs4B7"
      }
    },
    {
      "cell_type": "code",
      "source": [
        "# criar uma lista vazia para iterar\n",
        "lista_vogais = []\n",
        "def contar_vogal(frase):\n",
        "  vogais = ['a', 'à', 'á', 'ã', 'e', 'é', 'i', 'í', 'o', 'ó', 'õ', 'u', 'ú', 'y'] # discriminar as vogais\n",
        "  for letras in frase:\n",
        "    if letras in vogais:    # criar um loop para percorrer as letras da frase, e verificar se estas letras correspondem a lista de vogais\n",
        "      len(vogais)           # ler as vogais e adicioná-las à lista_vogais para retornar o resultado agregado a ela\n",
        "      frase.count(letras)\n",
        "      lista_vogais.append(letras)\n",
        "  return lista_vogais\n",
        "\n",
        "frase = input('Digite uma frase qualquer: ').lower()\n",
        "print(contar_vogal(frase))\n",
        "print('São: ', len(lista_vogais), 'vogais')"
      ],
      "metadata": {
        "id": "Xm2trCmMtmBs",
        "outputId": "e74d5747-bbb9-415e-faa1-1a1972798278",
        "colab": {
          "base_uri": "https://localhost:8080/"
        }
      },
      "execution_count": 4,
      "outputs": [
        {
          "output_type": "stream",
          "name": "stdout",
          "text": [
            "Digite uma frase qualquer: uma frase qualquer\n",
            "['u', 'a', 'a', 'e', 'u', 'a', 'u', 'e']\n",
            "São:  8 vogais\n"
          ]
        }
      ]
    },
    {
      "cell_type": "markdown",
      "source": [
        "5.\tSoma de Números em uma Lista  \n",
        "Faça uma função que recebe uma lista de números e retorna a soma de todos os números da lista."
      ],
      "metadata": {
        "id": "ygOHaqa3s1O7"
      }
    },
    {
      "cell_type": "code",
      "source": [
        "# registrar a lista e declarar o contador\n",
        "'''lista = [1, 3, 5, 7, 9, 11]\n",
        "somar = 0\n",
        "\n",
        "# definir os parâmetros da função para somar os números da lista entre si\n",
        "def soma_numeros(lista):\n",
        "  for numero in lista:\n",
        "    somar += numero                  ### corrigir\n",
        "    return somar\n",
        "\n",
        "soma_numeros(lista)'''\n",
        "\n",
        "# ajustando a função com o método soma()\n",
        "def soma_numeros(lista):\n",
        "  for n in lista:\n",
        "    soma = sum(lista)\n",
        "  return soma\n",
        "\n",
        "lista = [1, 3, 5, 7, 9, 11]\n",
        "soma_numeros(lista)"
      ],
      "metadata": {
        "id": "YY6ElNHztxHZ"
      },
      "execution_count": null,
      "outputs": []
    },
    {
      "cell_type": "markdown",
      "source": [
        "6.\tProduto dos Elementos  \n",
        "Faça uma função que recebe uma lista de números e retorna o produto de todos os elementos da lista."
      ],
      "metadata": {
        "id": "gTVFIYeeswli"
      }
    },
    {
      "cell_type": "markdown",
      "source": [
        "7.\tMédia de Notas  \n",
        "Faça uma função que recebe uma lista de notas e retorna a média das notas."
      ],
      "metadata": {
        "id": "2e55qP0Esvt5"
      }
    },
    {
      "cell_type": "markdown",
      "source": [
        "8.\tMaior e Menor Número  \n",
        "Faça uma função que recebe uma lista de números e retorna o maior e o menor número dessa lista."
      ],
      "metadata": {
        "id": "mpEgJ2PVstBS"
      }
    },
    {
      "cell_type": "markdown",
      "source": [
        "9.\tFatorial  \n",
        "Faça uma função que recebe um número inteiro e retorna o fatorial desse número."
      ],
      "metadata": {
        "id": "xOG-_-XVsrAE"
      }
    },
    {
      "cell_type": "markdown",
      "source": [
        "10.\tVerificar Número Primo  \n",
        "Faça uma função que recebe um número e retorna True se o número for primo e False caso contrário."
      ],
      "metadata": {
        "id": "6kzLxc0Aso0S"
      }
    },
    {
      "cell_type": "markdown",
      "source": [
        "11.\tSequência de Fibonacci  \n",
        "Faça uma função que recebe um número n e retorna os n primeiros números da sequência de Fibonacci."
      ],
      "metadata": {
        "id": "gMJvUJp_smqZ"
      }
    },
    {
      "cell_type": "markdown",
      "source": [
        "12.\tInversão de Lista  \n",
        "Faça uma função que recebe uma lista e retorna a lista invertida."
      ],
      "metadata": {
        "id": "xDL8slUnskbr"
      }
    },
    {
      "cell_type": "markdown",
      "source": [
        "13.\tRemover Duplicatas  \n",
        "Faça uma função que recebe uma lista e retorna uma nova lista sem elementos duplicados."
      ],
      "metadata": {
        "id": "NOsx2BOzsiEh"
      }
    },
    {
      "cell_type": "markdown",
      "source": [
        "14.\tNúmeros Perfeitos  \n",
        "Faça uma função que recebe um número e retorna True se o número for perfeito (a soma de seus divisores é igual ao próprio número) e False caso contrário."
      ],
      "metadata": {
        "id": "d5TthF6gsgC3"
      }
    },
    {
      "cell_type": "markdown",
      "source": [
        "15.\tConverter Temperatura  \n",
        "Faça uma função que converte uma temperatura de graus Celsius para Fahrenheit e vice-versa."
      ],
      "metadata": {
        "id": "x7UmepOIsd-x"
      }
    },
    {
      "cell_type": "markdown",
      "source": [
        "16.\tVerificar Substring  \n",
        "Faça uma função que recebe duas strings, texto e substring, e retorna True se substring estiver contida em texto, e False caso contrário."
      ],
      "metadata": {
        "id": "lYro3a5Csbki"
      }
    },
    {
      "cell_type": "markdown",
      "source": [
        "17.\tAnagramas  \n",
        "Faça uma função chamada e_anagrama que recebe duas palavras e retorna True se uma palavra for um anagrama da outra (ou seja, se ambas as palavras tiverem as mesmas letras na mesma quantidade) e False caso contrário."
      ],
      "metadata": {
        "id": "3aCh8ZyBsYaN"
      }
    },
    {
      "cell_type": "code",
      "source": [],
      "metadata": {
        "id": "nWm4VqLWvKsz"
      },
      "execution_count": null,
      "outputs": []
    }
  ]
}