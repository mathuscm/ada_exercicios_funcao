{
  "nbformat": 4,
  "nbformat_minor": 0,
  "metadata": {
    "colab": {
      "provenance": [],
      "authorship_tag": "ABX9TyNYCVE7IOzXcPmp1qHoKewY",
      "include_colab_link": true
    },
    "kernelspec": {
      "name": "python3",
      "display_name": "Python 3"
    },
    "language_info": {
      "name": "python"
    }
  },
  "cells": [
    {
      "cell_type": "markdown",
      "metadata": {
        "id": "view-in-github",
        "colab_type": "text"
      },
      "source": [
        "<a href=\"https://colab.research.google.com/github/mathuscm/ada_exercicios_funcao/blob/main/ADA_exercicios_funcao.ipynb\" target=\"_parent\"><img src=\"https://colab.research.google.com/assets/colab-badge.svg\" alt=\"Open In Colab\"/></a>"
      ]
    },
    {
      "cell_type": "markdown",
      "source": [],
      "metadata": {
        "id": "feU7BZ9jvGrd"
      }
    },
    {
      "cell_type": "markdown",
      "source": [
        "# Lista de Exercícios\n",
        "1.\tSoma de Dois Números:\n",
        "Faça uma função que recebe dois números e retorna a soma deles.\n",
        "\n",
        "2.\tQuadrado de um Número:  \n",
        "Faça uma função que recebe um número e retorna o seu quadrado.\n",
        "\n",
        "3.\tContar Caracteres  \n",
        "Faça uma função que recebe uma string e retorna a quantidade de caracteres na string.\n",
        "\n",
        "4.\tNúmero de Vogais  \n",
        "Faça uma função que recebe uma string e retorna o número de vogais presentes na string.\n",
        "\n",
        "5.\tSoma de Números em uma Lista  \n",
        "Faça uma função que recebe uma lista de números e retorna a soma de todos os números da lista.\n",
        "\n",
        "6.\tProduto dos Elementos  \n",
        "Faça uma função que recebe uma lista de números e retorna o produto de todos os elementos da lista.\n",
        "\n",
        "7.\tMédia de Notas  \n",
        "Faça uma função que recebe uma lista de notas e retorna a média das notas.\n",
        "\n",
        "8.\tMaior e Menor Número  \n",
        "Faça uma função que recebe uma lista de números e retorna o maior e o menor número dessa lista.\n",
        "\n",
        "9.\tFatorial  \n",
        "Faça uma função que recebe um número inteiro e retorna o fatorial desse número.\n",
        "\n",
        "10.\tVerificar Número Primo  \n",
        "Faça uma função que recebe um número e retorna True se o número for primo e False caso contrário.\n",
        "\n",
        "11.\tSequência de Fibonacci  \n",
        "Faça uma função que recebe um número n e retorna os n primeiros números da sequência de Fibonacci.\n",
        "\n",
        "12.\tInversão de Lista  \n",
        "Faça uma função que recebe uma lista e retorna a lista invertida.\n",
        "\n",
        "13.\tRemover Duplicatas  \n",
        "Faça uma função que recebe uma lista e retorna uma nova lista sem elementos duplicados.\n",
        "\n",
        "14.\tNúmeros Perfeitos  \n",
        "Faça uma função que recebe um número e retorna True se o número for perfeito (a soma de seus divisores é igual ao próprio número) e False caso contrário.\n",
        "\n",
        "15.\tConverter Temperatura  \n",
        "Faça uma função que converte uma temperatura de graus Celsius para Fahrenheit e vice-versa.\n",
        "\n",
        "16.\tVerificar Substring  \n",
        "Faça uma função que recebe duas strings, texto e substring, e retorna True se substring estiver contida em texto, e False caso contrário.\n",
        "\n",
        "17.\tAnagramas  \n",
        "Faça uma função chamada e_anagrama que recebe duas palavras e retorna True se uma palavra for um anagrama da outra (ou seja, se ambas as palavras tiverem as mesmas letras na mesma quantidade) e False caso contrário.\n"
      ],
      "metadata": {
        "id": "yM-5m_dpuk7h"
      }
    },
    {
      "cell_type": "code",
      "source": [],
      "metadata": {
        "id": "nWm4VqLWvKsz"
      },
      "execution_count": null,
      "outputs": []
    }
  ]
}